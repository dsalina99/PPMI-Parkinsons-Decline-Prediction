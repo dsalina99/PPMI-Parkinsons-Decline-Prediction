{
  "cells": [
    {
      "cell_type": "markdown",
      "metadata": {
        "id": "geD7MhOlQQEM"
      },
      "source": [
        "# Processing PPMI datasets to generate a harmonized dataset"
      ]
    },
    {
      "cell_type": "markdown",
      "metadata": {
        "id": "sHVrxU8zQQEN"
      },
      "source": [
        "### Extract Baseline Data for Patients in the Parkinsons' Cohort from the curated PPMI data"
      ]
    },
    {
      "cell_type": "code",
      "execution_count": 40,
      "metadata": {
        "id": "zpGUTzxnQQEN",
        "outputId": "aaf880e5-c61a-49e4-c36a-a61162ea9347"
      },
      "outputs": [],
      "source": [
        "import pandas as pd\n",
        "import matplotlib.pyplot as plt\n",
        "import seaborn as sns\n",
        "\n",
        "# Get the primary data downloaded from PPMI\n",
        "primary_data = pd.read_excel('../Data/PPMI_Curated_Data_Cut_Public_20240729.xlsx', sheet_name='20240703')\n",
        "\n",
        "# Filter for EVENT_ID == \"BL\" and COHORT == 1, which is patients data at baseline and only obtain the Patients from Parkinsons Cohort (1)\n",
        "filtered_data = primary_data[(primary_data['EVENT_ID'] == 'BL') & (primary_data['COHORT'] == 1)]\n",
        "\n",
        "# Subset the features to those we determined to be important in the diagnosis of Parkinsons and have shown to be useful for prognosis.\n",
        "columns_to_keep = [\n",
        "    'PATNO', 'age', 'EDUCYRS', 'fampd_bin', 'HISPLAT', 'race', 'SEX',\n",
        "    'APOE', 'APOE_e4', 'urate', 'BMI', 'hy', 'hy_on', 'pigd', 'pigd_on',\n",
        "    'moca', 'hvlt_retention', 'hvlt_immediaterecall', 'clockdraw',\n",
        "    'lns', 'lexical', 'TMT_A', 'TMT_B', 'quip', 'stai', 'gds', 'rem',\n",
        "    'scopa', 'scopa_sex', 'scopa_gi', 'scopa_ur', 'scopa_pm', 'scopa_cv',\n",
        "    'scopa_therm', 'ptau', 'abeta', 'tau', 'NFL_CSF', 'nfl_serum',\n",
        "    'sym_tremor', 'sym_rigid', 'sym_brady', 'sym_posins', 'sym_other',\n",
        "    'duration', 'agediag', 'ageonset', 'cogstate', 'ess', 'hemohi',\n",
        "    'total_di_18_1_BMP', 'total_di_22_6_BMP', 'asyn', 'mean_caudate',\n",
        "    'mean_putamen', 'mean_striatum', 'updrs1_score', 'updrs2_score',\n",
        "    'updrs3_score', 'updrs4_score', 'updrs_totscore', 'pm_adl_any',\n",
        "    'pm_any', 'pm_auto_any', 'pm_cog_any', 'pm_fd_any', 'pm_mc_any',\n",
        "    'pm_wb_any', 'Stage_G', 'MSEADLG', 'MODBNT',\n",
        "    'MODBNT', 'MSEADLG', 'updrs1_score',\n",
        "    'updrs2_score', 'updrs3_score'\n",
        "]\n",
        "\n",
        "# Subset the curated data\n",
        "subset_data = filtered_data[columns_to_keep]\n",
        "\n",
        "# export for use\n",
        "subset_data.to_csv('../Data/dataset_clean_1.csv', index=False)\n",
        "\n"
      ]
    },
    {
      "cell_type": "markdown",
      "metadata": {
        "id": "pzxQRDV4QQEO"
      },
      "source": [
        "### Extract Biomarker, Genetic, Lab test data for Patients with PD"
      ]
    },
    {
      "cell_type": "code",
      "execution_count": 16,
      "metadata": {
        "id": "auyftmiHQQEP"
      },
      "outputs": [],
      "source": [
        "# load datasets\n",
        "saa = pd.read_csv(\"../Data/SAA_Biospecimen_Analysis_Results_02Oct2024.csv\")\n",
        "biomarker_data = pd.read_csv(\"../Data/BIOMARKER_DATA.csv\")\n",
        "clinical_data = pd.read_csv(\"../Data/Blood_Chemistry___Hematology_18Oct2024.csv\")\n",
        "genetic_data = pd.read_csv(\"../Data/PPMI_PD_Variants_Genetic_Status_WGS_20180921.csv\")\n",
        "family_hist_data = pd.read_csv(\"../Data/family_history_moca_saa.csv\")\n",
        "\n",
        "dats=pd.read_csv(\"../Data/DaTScan_SBR_Analysis_02Oct2024.csv\")\n",
        "\n",
        "age = pd.read_csv(\"../Data/Age_at_visit_02Oct2024.csv\")\n",
        "demo = pd.read_csv(\"../Data/Demographics_02Oct2024.csv\")"
      ]
    },
    {
      "cell_type": "code",
      "execution_count": 17,
      "metadata": {
        "id": "Z2uUo7uEQQEP"
      },
      "outputs": [],
      "source": [
        "##################### Preprocessing Datscan Data #######################\n",
        "#FILTERING DATSCAN RESULTS TO ONLY SCREENING\n",
        "dats=dats[dats.EVENT_ID==\"SC\"]\n",
        "\n",
        "#Getting specific columns of interest\n",
        "dats=dats[[\"DATSCAN_CAUDATE_R\", \"DATSCAN_CAUDATE_L\", \"DATSCAN_PUTAMEN_R\", \"DATSCAN_PUTAMEN_L\", \"DATSCAN_PUTAMEN_R_ANT\", \"DATSCAN_PUTAMEN_L_ANT\", \"PATNO\"]]\n",
        "\n",
        "# MERGING WITH PD, SAA_POSITIVE PATIENTS\n",
        "dats_SAA = pd.merge(dats, saa[(saa.SAA_Status==\"Positive\")&(saa.COHORT==\"PD\")][[\"PATNO\", \"SAA_Status\"]], on=\"PATNO\", how=\"inner\")"
      ]
    },
    {
      "cell_type": "code",
      "execution_count": 18,
      "metadata": {
        "id": "xwPxAv2UQQEP"
      },
      "outputs": [],
      "source": [
        "################## Preprocessing Lab Test data ##########################\n",
        "# ONLY WANT THE CLINICAL DATA at SC\n",
        "clinical_data=clinical_data[clinical_data.EVENT_ID==\"SC\"]\n",
        "\n",
        "# There are some labtest taken at different units. We only will take the last one, since these represent duplicates\n",
        "clinical_data.drop_duplicates(subset=[\"PATNO\", \"LTSTNAME\"], keep=\"last\", inplace=True)\n",
        "\n",
        "# pivot for each patient in each row, and the columns being the different tests being performed for that patient, with the given values being the etest results that that patient obtained for SC visit.\n",
        "pivot_clinical= clinical_data.pivot(index=\"PATNO\", columns=\"LTSTNAME\", values=\"LSIRES\")\n",
        "pivot_clinical=pivot_clinical.reset_index()\n",
        "\n",
        "#drop this column as it seems not to be an actual test\n",
        "pivot_clinical.drop([\"Which visit being performed?\"], axis=1, inplace=True)\n",
        "\n",
        "\n",
        "dats_SAA_clinical_merge=pd.merge(pivot_clinical, dats_SAA, on=\"PATNO\", how=\"inner\")"
      ]
    },
    {
      "cell_type": "code",
      "execution_count": 19,
      "metadata": {
        "id": "yDwXrl9QQQEP",
        "outputId": "fd6cfe63-6ba3-4a6a-82f9-1aef41d815f7"
      },
      "outputs": [
        {
          "name": "stderr",
          "output_type": "stream",
          "text": [
            "/var/folders/hm/t4rw5mt55p71ljdpvv20wdkh0000gn/T/ipykernel_90198/615131162.py:5: DtypeWarning: Columns (6,7) have mixed types. Specify dtype option on import or set low_memory=False.\n",
            "  biomarkers_data=pd.read_csv(\"data/Current_Biospecimen_Analysis_Results_02Oct2024.csv\")\n",
            "/var/folders/hm/t4rw5mt55p71ljdpvv20wdkh0000gn/T/ipykernel_90198/615131162.py:15: SettingWithCopyWarning: \n",
            "A value is trying to be set on a copy of a slice from a DataFrame.\n",
            "Try using .loc[row_indexer,col_indexer] = value instead\n",
            "\n",
            "See the caveats in the documentation: https://pandas.pydata.org/pandas-docs/stable/user_guide/indexing.html#returning-a-view-versus-a-copy\n",
            "  biomarkers_data_filt['TESTNAME'] = biomarkers_data_filt.apply(lambda row: row['TESTNAME'] + ' ' + row['UNITS'] if row['TESTNAME'] == 'pS65 Ubiquitin' else row['TESTNAME'], axis=1)\n"
          ]
        }
      ],
      "source": [
        "#################### Preprocessing Biomarker Data ###########################\n",
        "\n",
        "# Include the suggestions made by sponsor regarding biomarker data\n",
        "to_test=pd.read_csv(\"../Data/Select_Biospecimen_Projects_in_PPMI.csv\")\n",
        "biomarkers_data=pd.read_csv(\"../Data/Current_Biospecimen_Analysis_Results_02Oct2024.csv\")\n",
        "\n",
        "# As sponsor suggested, use data that has spcific testname or belong to project 118. Also filter to only baseline values\n",
        "biomarkers_data_filt = biomarkers_data.loc[\n",
        "    ((biomarkers_data[\"TESTNAME\"].isin(to_test[\"TESTNAME\"])) |\n",
        "    (biomarkers_data[\"PROJECTID\"] == 118)) &\n",
        "    (biomarkers_data[\"CLINICAL_EVENT\"]==\"BL\")\n",
        "]\n",
        "\n",
        "#  this feature is represente in mutliple units, so just append the unit term\n",
        "biomarkers_data_filt['TESTNAME'] = biomarkers_data_filt.apply(lambda row: row['TESTNAME'] + ' ' + row['UNITS'] if row['TESTNAME'] == 'pS65 Ubiquitin' else row['TESTNAME'], axis=1)\n",
        "\n",
        "# Pivot the data, need to get first value, since some values were calculated twice durint the same day presumably, however they seem similar values.\n",
        "# Possibly done to confirm outlier results\n",
        "biomarkers_data_filt_pivoted = biomarkers_data_filt.pivot_table(index='PATNO', columns='TESTNAME', values='TESTVALUE', aggfunc='first')\n",
        "\n",
        "# Reset index to get a clean DataFrame\n",
        "biomarkers_data_filt_pivoted = biomarkers_data_filt_pivoted.reset_index()\n",
        "\n",
        "# Save the data\n",
        "#biomarkers_data_filt_pivoted.to_csv(\"BIOMARKER_DATA.csv\")\n",
        "\n",
        "#this data is already filtered\n",
        "dats_SAA_clinical_biomarkers_merge=pd.merge(dats_SAA_clinical_merge, biomarker_data, on=\"PATNO\", how=\"inner\")"
      ]
    },
    {
      "cell_type": "code",
      "execution_count": 20,
      "metadata": {
        "id": "wJVfP2tnQQEP"
      },
      "outputs": [],
      "source": [
        "# ##################  ADD GENETIC DATA   ###################################\n",
        "# NOTE: IF YOU WANT TO KEEP PATIENTS, DO NOT ADD THE GENETIC DATA AND EXPORT TO SCV RIGHT HERE\n",
        "# dats_SAA_clinical_biomarkers_merge.to_csv(\"DATA_WITHOUT_GENETIC.csv\")\n",
        "dats_SAA_clinical_biomarkers_merge_genetic_merge=pd.merge(dats_SAA_clinical_biomarkers_merge, genetic_data, on=\"PATNO\", how=\"inner\")"
      ]
    },
    {
      "cell_type": "code",
      "execution_count": 21,
      "metadata": {
        "id": "e9_0h3uaQQEP"
      },
      "outputs": [],
      "source": [
        "##################### ADD AGE AND SEX OF PATIENTS #########################\n",
        "#Remove duplicate\n",
        "dats_SAA_clinical_biomarkers_merge_genetic_merge.drop_duplicates(inplace=True)\n",
        "\n",
        "# ADD AGE OF PATIENT at EVENT_ID ==SC (Age at screening time)\n",
        "dats_SAA_clinical_biomarkers_merge_genetic_merge=pd.merge(dats_SAA_clinical_biomarkers_merge_genetic_merge, age[age.EVENT_ID ==\"SC\"][[\"PATNO\", \"AGE_AT_VISIT\"]], how=\"inner\", on=\"PATNO\")\n",
        "\n",
        "# ADD PATIENT SEX COLUMN\n",
        "dats_SAA_clinical_biomarkers_merge_genetic_merge=pd.merge(dats_SAA_clinical_biomarkers_merge_genetic_merge, demo[demo.PAG_NAME ==\"SCREEN\"][[\"PATNO\", \"SEX\"]], how=\"inner\", on=\"PATNO\")"
      ]
    },
    {
      "cell_type": "code",
      "execution_count": 22,
      "metadata": {
        "id": "xUX0JLWEQQEP"
      },
      "outputs": [],
      "source": [
        "###################### ADD the moca score of the patients at Screening time ############################\n",
        "# THIS COULD ALSO BE A GOOD PREDICTOR\n",
        "moca_data_tot = pd.read_csv(\"../Data/Montreal_Cognitive_Assessment__MoCA__02Oct2024.csv\")\n",
        "\n",
        "moca_data_tot=moca_data_tot[['PATNO', 'EVENT_ID', 'MCAALTTM',\n",
        "       'MCACUBE', 'MCACLCKC', 'MCACLCKN', 'MCACLCKH', 'MCALION', 'MCARHINO',\n",
        "       'MCACAMEL', 'MCAFDS', 'MCABDS', 'MCAVIGIL', 'MCASER7', 'MCASNTNC',\n",
        "       'MCAVFNUM', 'MCAVF', 'MCAABSTR', 'MCAREC1', 'MCAREC2', 'MCAREC3',\n",
        "       'MCAREC4', 'MCAREC5', 'MCADATE', 'MCAMONTH', 'MCAYR', 'MCADAY',\n",
        "       'MCAPLACE', 'MCACITY', 'MCATOT']]\n",
        "#filter moca to only at screening time\n",
        "moca_data_tot=moca_data_tot[moca_data_tot.EVENT_ID==\"SC\"]\n",
        "\n",
        "dats_SAA_clinical_biomarkers_merge_genetic_merge=pd.merge(dats_SAA_clinical_biomarkers_merge_genetic_merge, moca_data_tot, how=\"inner\", on=\"PATNO\")"
      ]
    },
    {
      "cell_type": "code",
      "execution_count": 23,
      "metadata": {
        "id": "giGh6APnQQEP"
      },
      "outputs": [],
      "source": [
        "##################### ADD THE FAMILY HISTORY DATA ################################################\n",
        "#family history is already at EVENT_ID==SC\n",
        "family_hist_data=pd.read_csv(\"../Data/Family_History_02Oct2024.csv\")\n",
        "family_hist_data=family_hist_data[family_hist_data.EVENT_ID==\"SC\"]\n",
        "\n",
        "#Preselected features\n",
        "family_hist_data=family_hist_data[['ANYFAMPD', 'BIOMOM',\n",
        "       'BIOMOMPD', 'BIODAD', 'BIODADPD', 'FULSIB', 'FULBRO', 'FULSIS',\n",
        "       'FULSIBPD', 'FULBROPD', 'FULSISPD', 'HAFSIB', 'PAHAFSIB', 'MAHAFSIB',\n",
        "       'HAFSIBPD', 'MAHAFSIBPD', 'PAHAFSIBPD', 'MAGPAR', 'MAGPARPD',\n",
        "       'MAGFATHPD', 'MAGMOTHPD', 'PAGPAR', 'PAGPARPD', 'PAGFATHPD',\n",
        "       'PAGMOTHPD', 'MATAU', 'MATAUPD', 'PATAU', 'PATAUPD', 'KIDSNUM',\n",
        "       'KIDSPD', 'DISFAMPD', 'MATCOUS', 'MATCOUSPD', 'PATCOUS', 'PATCOUSPD', \"PATNO\"]]\n",
        "\n",
        "dats_SAA_clinical_biomarkers_merge_genetic_family_merge=pd.merge(dats_SAA_clinical_biomarkers_merge_genetic_merge, family_hist_data, how=\"left\", on=\"PATNO\")\n",
        "\n",
        "dats_SAA_clinical_biomarkers_merge_genetic_family_merge.drop_duplicates(inplace=True)"
      ]
    },
    {
      "cell_type": "code",
      "execution_count": 24,
      "metadata": {
        "id": "dMnZqdFVQQEP"
      },
      "outputs": [],
      "source": [
        "##################### Precleaning: REMOVE COLUMNS WITH HIGH MISSING DATA ###########################\n",
        "\n",
        "# threshold for data missingness\n",
        "nan_threshold = 0.7\n",
        "# get the min non-nan numbers of cols\n",
        "min_non_nan = int((1 - nan_threshold) * len(dats_SAA_clinical_biomarkers_merge_genetic_family_merge))\n",
        "\n",
        "#get the cleaner data\n",
        "clean_merged_data=dats_SAA_clinical_biomarkers_merge_genetic_family_merge.dropna(axis=1, thresh=min_non_nan)"
      ]
    },
    {
      "cell_type": "code",
      "execution_count": 25,
      "metadata": {
        "id": "zpZ4-qNRQQEQ",
        "outputId": "1a5cbfac-3757-416c-a7db-3ff683afeae3"
      },
      "outputs": [
        {
          "name": "stderr",
          "output_type": "stream",
          "text": [
            "/var/folders/hm/t4rw5mt55p71ljdpvv20wdkh0000gn/T/ipykernel_90198/2997956422.py:2: SettingWithCopyWarning: \n",
            "A value is trying to be set on a copy of a slice from a DataFrame\n",
            "\n",
            "See the caveats in the documentation: https://pandas.pydata.org/pandas-docs/stable/user_guide/indexing.html#returning-a-view-versus-a-copy\n",
            "  clean_merged_data.drop(\"Unnamed: 0\", axis=1, inplace=True)\n"
          ]
        }
      ],
      "source": [
        "####################### SAVE Biomarker, genetic, LAB TEST DATA  ###################################################\n",
        "clean_merged_data.drop(\"Unnamed: 0\", axis=1, inplace=True)\n",
        "#clean_merged_data.to_csv(\"MERGED_DATA_10202024_DS_UPDATE3_WITH_INDIVIDUAL_MOCA_AND_FAMILIYHIST.csv\")"
      ]
    },
    {
      "cell_type": "markdown",
      "metadata": {
        "id": "nY5sovupQQEQ"
      },
      "source": [
        "# LABEL GENERATION"
      ]
    },
    {
      "cell_type": "markdown",
      "metadata": {},
      "source": [
        "### Preparing MOCA SCORES Overtime dataset (Label Generation done by collaborator Alejandro Cruz)"
      ]
    },
    {
      "cell_type": "code",
      "execution_count": 4,
      "metadata": {},
      "outputs": [
        {
          "name": "stderr",
          "output_type": "stream",
          "text": [
            "C:\\Users\\15855\\AppData\\Local\\Temp\\ipykernel_100556\\3079242387.py:31: UserWarning: Could not infer format, so each element will be parsed individually, falling back to `dateutil`. To ensure parsing is consistent and as-expected, please specify a format.\n",
            "  saa_moca_merge['VISIT_DATE'] = pd.to_datetime(saa_moca_merge['INFODT'])\n"
          ]
        }
      ],
      "source": [
        "##################################################   GET SCORES OVERTIME OF THE PATIENTS IN ORDER TO FIT LINEAR MODELS ##############\n",
        "import pandas as pd\n",
        "# in BOX file, which a filtered list of patients who meets Charles requirements: SAA status column, patients are part of PD cohort. \n",
        "moca_data = pd.read_csv('../Data/Montreal_Cognitive_Assessment__MoCA__02Oct2024.csv')\n",
        "saa = pd.read_csv('../Data/SAA_Biospecimen_Analysis_Results_02Oct2024.csv')\n",
        "\n",
        "#some patiens have two measurements= first was inconclusive, therefore keep the last measurement done\n",
        "saa=saa.drop_duplicates(subset=[\"PATNO\", \"CLINICAL_EVENT\"], keep=\"last\")\n",
        "# merging on patient number\n",
        "saa_moca_merge = pd.merge(moca_data[[\"PATNO\", \"MCATOT\", \"EVENT_ID\", \"INFODT\"]],saa[(saa[\"COHORT\"]==\"PD\")&(saa[\"CLINICAL_EVENT\"]==\"BL\")&(saa[\"SAA_Status\"]==\"Positive\")][[\"PATNO\", \"SAA_Status\", \"COHORT\"]] , on=\"PATNO\", how=\"inner\")\n",
        "\n",
        "# get only PATNOs with EVENT_ID == \"SC\", since we need a baseline\n",
        "patno_with_sc = saa_moca_merge[saa_moca_merge[\"EVENT_ID\"] == \"SC\"][\"PATNO\"].unique()\n",
        "\n",
        "# filter the data on those patients\n",
        "saa_moca_merge = saa_moca_merge[saa_moca_merge[\"PATNO\"].isin(patno_with_sc)]\n",
        "\n",
        "# counts the number of events per patients\n",
        "event_counts = saa_moca_merge.groupby('PATNO').size().reset_index(name='event_count')\n",
        "\n",
        "# only those patients with more or equal to 3 events\n",
        "patno_with_3_events = event_counts[event_counts['event_count'] >= 3]['PATNO']\n",
        "\n",
        "# filter data based on thos patients\n",
        "saa_moca_merge = saa_moca_merge[saa_moca_merge[\"PATNO\"].isin(patno_with_3_events)]\n",
        "\n",
        "# MAP THE VISITS DATE TO THE TIME SINCE FIRST CONTACT WITH PATIENT.\n",
        "# FOR EXAMPLE, FOR A PATIENT WHO FIRST VISIT SC WAS 01/2023, THE 4th VISIT ON 01/2024 WILL HAVE A RECORD OF 365 days.\n",
        "\n",
        "# convert to pandas date format\n",
        "saa_moca_merge['VISIT_DATE'] = pd.to_datetime(saa_moca_merge['INFODT'])\n",
        "\n",
        "# get the data when screening actually happened\n",
        "baseline_dates = saa_moca_merge[saa_moca_merge['EVENT_ID'] == 'SC'][['PATNO', 'VISIT_DATE']]\n",
        "baseline_dates = baseline_dates.rename(columns={'VISIT_DATE': 'SC_DATE'})\n",
        "\n",
        "# merge the baseline dates\n",
        "saa_moca_merge = pd.merge(saa_moca_merge, baseline_dates, on='PATNO', how='inner')\n",
        "\n",
        "# get the time since baseline/screening visit in days for each patient\n",
        "saa_moca_merge['DAYS_SINCE_SC'] = (saa_moca_merge['VISIT_DATE'] - saa_moca_merge['SC_DATE']).dt.days\n",
        "\n",
        "ind_to_drop = saa_moca_merge[saa_moca_merge[\"DAYS_SINCE_SC\"] < 0].index\n",
        "saa_moca_merge = saa_moca_merge.drop(ind_to_drop).reset_index(drop=True)\n",
        "\n",
        "# import the participation status data\n",
        "# merge on enrollment , because we want ot obtain the age of the patient\n",
        "status=pd.read_csv('../Data/Participant_Status_02Oct2024.csv')\n",
        "saa_moca_merge = pd.merge(saa_moca_merge, status[[\"PATNO\", \"ENROLL_AGE\"]], on=[\"PATNO\"], how=\"inner\")\n",
        "\n",
        "# import the demographics patients of each patient\n",
        "# merge on sex\n",
        "sex_data = pd.read_csv('../Data/Demographics_02Oct2024.csv')\n",
        "\n",
        "saa_moca_sex_merge  = pd.merge(saa_moca_merge, sex_data[[\"PATNO\", \"SEX\"]], on=[\"PATNO\"], how=\"inner\")\n",
        "\n",
        "#saa_moca_sex_merge.drop_duplicates()\n",
        "# Extract the data to only the first 2191 days, or 6 years for ech patient\n",
        "df_MOCA_2191_days=saa_moca_sex_merge[(saa_moca_sex_merge[\"DAYS_SINCE_SC\"]<=2191)]\n",
        "\n",
        "#df_MOCA_2191_days.to_csv(\"Data/Filtered_data_with_clusters__2190_Days.csv\")"
      ]
    },
    {
      "cell_type": "markdown",
      "metadata": {
        "id": "YgmqyZ2MQamX"
      },
      "source": [
        "### Fitting a slope to patients with more than two MoCA observations"
      ]
    },
    {
      "cell_type": "code",
      "execution_count": 41,
      "metadata": {
        "id": "reuULNO1QQEQ"
      },
      "outputs": [
        {
          "name": "stdout",
          "output_type": "stream",
          "text": [
            "      PATNO     Slope\n",
            "0      3001 -0.000283\n",
            "1      3002 -0.002067\n",
            "2      3003  0.000790\n",
            "3      3010  0.000967\n",
            "4      3012 -0.002764\n",
            "..      ...       ...\n",
            "655  214900 -0.003451\n",
            "656  217633 -0.001562\n",
            "657  218338 -0.004422\n",
            "658  219605  0.004225\n",
            "659  238871  0.002146\n",
            "\n",
            "[660 rows x 2 columns]\n"
          ]
        },
        {
          "name": "stderr",
          "output_type": "stream",
          "text": [
            "/var/folders/hm/t4rw5mt55p71ljdpvv20wdkh0000gn/T/ipykernel_90198/1431398230.py:18: DeprecationWarning: DataFrameGroupBy.apply operated on the grouping columns. This behavior is deprecated, and in a future version of pandas the grouping columns will be excluded from the operation. Either pass `include_groups=False` to exclude the groupings or explicitly select the grouping columns after groupby to silence this warning.\n",
            "  slopes = df_valid.groupby('PATNO').apply(fit_linear_model).reset_index(name='Slope')\n"
          ]
        }
      ],
      "source": [
        "from statsmodels.formula.api import ols\n",
        "df_path = \"../Data/Filtered_data_with_clusters__2190_Days.csv\"\n",
        "df = pd.read_csv(df_path)\n",
        "df = df.rename(columns={'cluster': 'cluster_dennis'})\n",
        "\n",
        "# Filter out patients with fewer than 2 observations\n",
        "patient_counts = df.groupby('PATNO').size().reset_index(name='Count')\n",
        "valid_patients = patient_counts[patient_counts['Count'] >= 2]['PATNO']\n",
        "df_valid = df[df['PATNO'].isin(valid_patients)]\n",
        "\n",
        "# Function to fit linear model and extract slope\n",
        "def fit_linear_model(group):\n",
        "    model = ols('MCATOT ~ DAYS_SINCE_SC', data=group).fit()\n",
        "    slope = model.params['DAYS_SINCE_SC']\n",
        "    return slope\n",
        "\n",
        "# Apply the model to each patient group and extract the slope\n",
        "slopes = df_valid.groupby('PATNO').apply(fit_linear_model).reset_index(name='Slope')\n",
        "\n",
        "print(slopes)"
      ]
    },
    {
      "cell_type": "markdown",
      "metadata": {
        "id": "HMFHLsW4QoiM"
      },
      "source": [
        "### Selecting a patient as an example"
      ]
    },
    {
      "cell_type": "code",
      "execution_count": 42,
      "metadata": {
        "id": "Z33i3DAPQqLj"
      },
      "outputs": [
        {
          "name": "stdout",
          "output_type": "stream",
          "text": [
            "                            OLS Regression Results                            \n",
            "==============================================================================\n",
            "Dep. Variable:                 MCATOT   R-squared:                       0.009\n",
            "Model:                            OLS   Adj. R-squared:                 -0.238\n",
            "Method:                 Least Squares   F-statistic:                   0.03718\n",
            "Date:                Wed, 11 Dec 2024   Prob (F-statistic):              0.856\n",
            "Time:                        18:35:15   Log-Likelihood:                -13.195\n",
            "No. Observations:                   6   AIC:                             30.39\n",
            "Df Residuals:                       4   BIC:                             29.97\n",
            "Df Model:                           1                                         \n",
            "Covariance Type:            nonrobust                                         \n",
            "=================================================================================\n",
            "                    coef    std err          t      P>|t|      [0.025      0.975]\n",
            "---------------------------------------------------------------------------------\n",
            "Intercept        27.1443      1.947     13.940      0.000      21.738      32.551\n",
            "DAYS_SINCE_SC    -0.0003      0.002     -0.193      0.856      -0.005       0.004\n",
            "==============================================================================\n",
            "Omnibus:                          nan   Durbin-Watson:                   1.987\n",
            "Prob(Omnibus):                    nan   Jarque-Bera (JB):                0.855\n",
            "Skew:                          -0.089   Prob(JB):                        0.652\n",
            "Kurtosis:                       1.160   Cond. No.                     2.15e+03\n",
            "==============================================================================\n",
            "\n",
            "Notes:\n",
            "[1] Standard Errors assume that the covariance matrix of the errors is correctly specified.\n",
            "[2] The condition number is large, 2.15e+03. This might indicate that there are\n",
            "strong multicollinearity or other numerical problems.\n"
          ]
        },
        {
          "name": "stderr",
          "output_type": "stream",
          "text": [
            "/Users/veronicamataramirez/miniforge3/envs/deeplearning/lib/python3.9/site-packages/statsmodels/stats/stattools.py:74: ValueWarning: omni_normtest is not valid with less than 8 observations; 6 samples were given.\n",
            "  warn(\"omni_normtest is not valid with less than 8 observations; %i \"\n"
          ]
        },
        {
          "data": {
            "image/png": "[encoded data removed]",
            "text/plain": [
              "<Figure size 800x600 with 1 Axes>"
            ]
          },
          "metadata": {},
          "output_type": "display_data"
        }
      ],
      "source": [
        "# Selecting a random patient\n",
        "random_patient_id = df_valid['PATNO'].drop_duplicates().sample(n=1, random_state=123).values[0]\n",
        "\n",
        "# Extract data for the random patient\n",
        "patient_data = df_valid[df_valid['PATNO'] == random_patient_id]\n",
        "\n",
        "# Fit a linear model for the patient's data\n",
        "patient_model = ols('MCATOT ~ DAYS_SINCE_SC', data=patient_data).fit()\n",
        "print(patient_model.summary())\n",
        "\n",
        "\n",
        "plt.figure(figsize=(8, 6))\n",
        "# Scatter plot of the patient's data\n",
        "plt.scatter(patient_data['DAYS_SINCE_SC'], patient_data['MCATOT'], color='blue', s=50)\n",
        "# Plot the regression line\n",
        "sns.regplot(x='DAYS_SINCE_SC', y='MCATOT', data=patient_data, scatter=False, color='red', ci=None)\n",
        "\n",
        "plt.title(f\"MoCA Scores Over Time for Patient {random_patient_id}\", fontsize=14)\n",
        "plt.xlabel(\"Days Since Screening\", fontsize=12)\n",
        "plt.ylabel(\"MoCA Total Score\", fontsize=12)\n",
        "\n",
        "# Minimal theme\n",
        "plt.grid(True, which='both', linestyle='--', linewidth=0.7)\n",
        "plt.show()"
      ]
    },
    {
      "cell_type": "markdown",
      "metadata": {
        "id": "6TmyFHotQyBL"
      },
      "source": [
        "### Splitting patients based on 0.0014 threshold"
      ]
    },
    {
      "cell_type": "code",
      "execution_count": 43,
      "metadata": {
        "id": "Zgf2-XJRQ06E"
      },
      "outputs": [
        {
          "name": "stdout",
          "output_type": "stream",
          "text": [
            "   Label  Count\n",
            "0      0    530\n",
            "1      1    130\n"
          ]
        }
      ],
      "source": [
        "# Define a clinically meaningful threshold (in this case as advised by our sponsor, Charles)\n",
        "threshold = -0.0014  # Adjust based on clinical input\n",
        "\n",
        "# Assign labels based on the threshold\n",
        "slopes['Label'] = slopes['Slope'].apply(lambda x: 1 if x <= threshold else 0)\n",
        "\n",
        "# Recount the labels\n",
        "label_counts = slopes['Label'].value_counts().reset_index()\n",
        "label_counts.columns = ['Label', 'Count']\n",
        "\n",
        "print(label_counts)\n",
        "slopes.to_csv('../Data/slopes_0.0014.csv', index = False)"
      ]
    },
    {
      "cell_type": "code",
      "execution_count": 44,
      "metadata": {
        "id": "q5RUzGrnRM0O"
      },
      "outputs": [
        {
          "data": {
            "image/png": "[encoded data removed]",
            "text/plain": [
              "<Figure size 800x600 with 1 Axes>"
            ]
          },
          "metadata": {},
          "output_type": "display_data"
        }
      ],
      "source": [
        "# Create a histogram of slopes, colored by label\n",
        "plt.figure(figsize=(8, 6))\n",
        "sns.histplot(data=slopes, x='Slope', hue='Label', bins=30, binwidth=0.0005,\n",
        "              edgecolor='black', alpha=1)\n",
        "plt.title(\"Histogram of Cognitive Decline Slopes by Group\", fontsize=23)\n",
        "plt.xlabel(\"Slope (-0.0014 MoCA Score per Day)\", fontsize=19)\n",
        "plt.ylabel(\"Number of Patients\", fontsize=19)\n",
        "plt.legend(title='Group', labels=['Rapid Decliners', 'Steady Decliners'], fontsize=12)\n",
        "plt.grid(True, which='both', linestyle='-', linewidth=0.7, alpha=0.3)\n",
        "plt.tight_layout()\n",
        "plt.show()"
      ]
    },
    {
      "cell_type": "markdown",
      "metadata": {
        "id": "-4_psFumQQEQ"
      },
      "source": [
        "# DATA MERGING AND PREPROCESSING/CLEANING"
      ]
    },
    {
      "cell_type": "code",
      "execution_count": 31,
      "metadata": {
        "id": "VFDvjOoTQQEQ"
      },
      "outputs": [],
      "source": [
        "#################################### LOAD THE DATASETS CREATED ABOVE AND MERGE ############################################\n",
        "import numpy as np\n",
        "import pandas as pd\n",
        "\n",
        "data_to_merge = pd.read_csv(\"../Data/dataset_clean_medications.csv\") # Vero's merged dataset\n",
        "slopes = pd.read_csv(\"../Data/slopes_0.0014.csv\") # -0.0014 slope patient split\n",
        "\n",
        "# same as before, the dataset with medication, merged with new slopes\n",
        "merged_data = pd.merge(data_to_merge, slopes[['PATNO', 'Label']], on='PATNO', how='inner')\n",
        "\n",
        "# the clinical data\n",
        "clinical_bm_data= pd.read_csv(\"../Data/MERGED_DATA_10202024_DS_UPDATE3_WITH_INDIVIDUAL_MOCA_AND_FAMILIYHIST.csv\")\n",
        "\n"
      ]
    },
    {
      "cell_type": "code",
      "execution_count": 32,
      "metadata": {
        "id": "EX47R2o4QQEQ",
        "outputId": "aab8df1b-d5e1-4a19-c525-98c3b7ee1e67"
      },
      "outputs": [
        {
          "data": {
            "text/plain": [
              "Label\n",
              "0    295\n",
              "1     75\n",
              "Name: count, dtype: int64"
            ]
          },
          "execution_count": 32,
          "metadata": {},
          "output_type": "execute_result"
        }
      ],
      "source": [
        "# drop the common columns\n",
        "import pandas as pd\n",
        "\n",
        "# there are common features, so delete them form the clinical if present\n",
        "common_columns = set(merged_data.columns).intersection(set(clinical_bm_data.columns)) - set([\"PATNO\"])  # Replace \"key_column\" with the column to merge on\n",
        "df2_filtered = clinical_bm_data.drop(columns=common_columns, errors=\"ignore\")\n",
        "\n",
        "# do inner merge\n",
        "merged_df = pd.merge(merged_data, df2_filtered, how=\"inner\", on=\"PATNO\")  # Replace \"key_column\" with your actual key column\n",
        "\n",
        "merged_df.Label.value_counts()\n"
      ]
    },
    {
      "cell_type": "markdown",
      "metadata": {
        "id": "jaknl1J3QQEQ"
      },
      "source": [
        "### Cleaning rows and columns with high missing data"
      ]
    },
    {
      "cell_type": "code",
      "execution_count": 33,
      "metadata": {
        "id": "MYK850EwQQER"
      },
      "outputs": [],
      "source": [
        "# Cleaning columns\n",
        "#assessing the Nan percentage on the columns\n",
        "nan_percentage = (merged_df.isna().sum() / len(merged_df)) * 100\n",
        "\n",
        "nan_percentage_sorted = nan_percentage.sort_values(ascending=False)\n",
        "# Threshold for missing data\n",
        "threshold = 40\n",
        "# Identify columns to drop\n",
        "columns_to_drop = nan_percentage[nan_percentage > threshold].index\n",
        "\n",
        "# Drop the columns\n",
        "merged_data_cleaned = merged_df.drop(columns=columns_to_drop)\n"
      ]
    },
    {
      "cell_type": "code",
      "execution_count": 34,
      "metadata": {
        "id": "S4e9OmQRQQER",
        "outputId": "c9d1e7a4-b3a2-499d-f3f8-9702d422df95"
      },
      "outputs": [
        {
          "name": "stdout",
          "output_type": "stream",
          "text": [
            "Removed rows: 55\n",
            "315\n"
          ]
        }
      ],
      "source": [
        "# Cleaning rows\n",
        "# Set the threshold for row-wise missing data percentage\n",
        "row_threshold = 15\n",
        "\n",
        "# Calculate the percentage of missing data for each row\n",
        "row_nan_percentage = (merged_data_cleaned.isna().sum(axis=1) / merged_data_cleaned.shape[1]) * 100\n",
        "\n",
        "# Identify rows to keep (those with less than the threshold of missing data)\n",
        "rows_to_keep = row_nan_percentage < row_threshold\n",
        "\n",
        "# Filter the DataFrame\n",
        "df_cleaned_rows = merged_data_cleaned[rows_to_keep]\n",
        "\n",
        "print(f\"Removed rows: {len(merged_data_cleaned) - len(df_cleaned_rows)}\")\n",
        "print(len(df_cleaned_rows))"
      ]
    },
    {
      "cell_type": "code",
      "execution_count": 35,
      "metadata": {
        "id": "YR5RVUHkQQER",
        "outputId": "5f7d7b73-b7e3-4e86-fc79-44b5556f5226"
      },
      "outputs": [
        {
          "data": {
            "text/plain": [
              "Label\n",
              "0    252\n",
              "1     63\n",
              "Name: count, dtype: int64"
            ]
          },
          "execution_count": 35,
          "metadata": {},
          "output_type": "execute_result"
        }
      ],
      "source": [
        "df_cleaned_rows.Label.value_counts()"
      ]
    }
  ],
  "metadata": {
    "colab": {
      "provenance": []
    },
    "kernelspec": {
      "display_name": "Python 3",
      "language": "python",
      "name": "python3"
    },
    "language_info": {
      "codemirror_mode": {
        "name": "ipython",
        "version": 3
      },
      "file_extension": ".py",
      "mimetype": "text/x-python",
      "name": "python",
      "nbconvert_exporter": "python",
      "pygments_lexer": "ipython3",
      "version": "3.10.11"
    }
  },
  "nbformat": 4,
  "nbformat_minor": 0
}
